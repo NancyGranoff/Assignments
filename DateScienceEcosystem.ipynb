{
 "cells": [
  {
   "cell_type": "markdown",
   "id": "0b384a35-23e4-46e6-89db-73a2bfd487c2",
   "metadata": {},
   "source": [
    "# Data Science Tools and Ecosystem"
   ]
  },
  {
   "cell_type": "markdown",
   "id": "94b11b08-402c-4b11-bf2c-0d1605e5b55b",
   "metadata": {},
   "source": [
    "In this notebook, Data Science Tools and Ecosystem are summarized"
   ]
  },
  {
   "cell_type": "markdown",
   "id": "f3eea4c9-35a0-43ce-beb2-d83cc2e0739e",
   "metadata": {},
   "source": [
    "Some of the popular languages that Data Scientists use are:\n",
    "1. Python\n",
    "2. SQL\n",
    "3. R"
   ]
  },
  {
   "cell_type": "markdown",
   "id": "28384ede-beb5-403f-bca9-bcfb3fa82009",
   "metadata": {},
   "source": [
    "Some of the commonly used libraries used by Data Scientitst include:\n",
    "1. NumPy\n",
    "2. Pandas\n",
    "3. Matplotlib"
   ]
  },
  {
   "cell_type": "markdown",
   "id": "5e558950-0bc9-416a-a287-0e9263cdb6b2",
   "metadata": {},
   "source": [
    "| Data Science Tools |\n",
    "| ------------------ |\n",
    "| Jupyter Notebooks |\n",
    "| RStudio |\n",
    "| Github |\n"
   ]
  },
  {
   "cell_type": "markdown",
   "id": "ce369dea-423d-45cc-9ee5-a9932ef1bfcb",
   "metadata": {},
   "source": [
    "### Below are a few examples of evaluating arithmetic expressions in Python"
   ]
  },
  {
   "cell_type": "markdown",
   "id": "7ff29cc7-36ff-4130-8d8d-cf72bbb7ec7f",
   "metadata": {},
   "source": [
    "This is a simple arithmetic expression to mutiply then add integers"
   ]
  },
  {
   "cell_type": "code",
   "execution_count": 4,
   "id": "06f41180-ffbb-4c48-bd88-149bfa35bd0c",
   "metadata": {
    "tags": []
   },
   "outputs": [
    {
     "data": {
      "text/plain": [
       "17"
      ]
     },
     "execution_count": 4,
     "metadata": {},
     "output_type": "execute_result"
    }
   ],
   "source": [
    "(3*4)+5"
   ]
  },
  {
   "cell_type": "markdown",
   "id": "a9dda7de-81f7-45d2-905b-135ac007cb7b",
   "metadata": {},
   "source": [
    "This will convert 200 minutes to hours by diving by 60"
   ]
  },
  {
   "cell_type": "code",
   "execution_count": 5,
   "id": "c3cf6441-86a7-48d8-9d10-c99accf3b1d8",
   "metadata": {
    "tags": []
   },
   "outputs": [
    {
     "data": {
      "text/plain": [
       "3.3333333333333335"
      ]
     },
     "execution_count": 5,
     "metadata": {},
     "output_type": "execute_result"
    }
   ],
   "source": [
    "200/60"
   ]
  },
  {
   "cell_type": "markdown",
   "id": "f14c7f18-4dcd-4e35-9e24-897f3a9ed56c",
   "metadata": {},
   "source": [
    "List popular languages for Data Science\n",
    "* SQL\n",
    "* Pyrthon\n",
    "* R\n",
    "\n"
   ]
  },
  {
   "cell_type": "markdown",
   "id": "559ae0bb-d899-4218-8c19-5c6b20063665",
   "metadata": {},
   "source": [
    "## Author\n",
    "Nancy Granoff"
   ]
  },
  {
   "cell_type": "code",
   "execution_count": null,
   "id": "60591de2-4de9-416a-b972-3c27e3af4f61",
   "metadata": {},
   "outputs": [],
   "source": []
  }
 ],
 "metadata": {
  "kernelspec": {
   "display_name": "Python",
   "language": "python",
   "name": "conda-env-python-py"
  },
  "language_info": {
   "codemirror_mode": {
    "name": "ipython",
    "version": 3
   },
   "file_extension": ".py",
   "mimetype": "text/x-python",
   "name": "python",
   "nbconvert_exporter": "python",
   "pygments_lexer": "ipython3",
   "version": "3.7.12"
  }
 },
 "nbformat": 4,
 "nbformat_minor": 5
}
